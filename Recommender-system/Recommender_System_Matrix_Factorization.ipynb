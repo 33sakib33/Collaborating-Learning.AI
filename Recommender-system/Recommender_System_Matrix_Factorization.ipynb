{
  "nbformat": 4,
  "nbformat_minor": 0,
  "metadata": {
    "colab": {
      "provenance": []
    },
    "kernelspec": {
      "name": "python3",
      "display_name": "Python 3"
    },
    "language_info": {
      "name": "python"
    }
  },
  "cells": [
    {
      "cell_type": "code",
      "source": [
        "!pip uninstall -y numpy\n",
        "!pip install numpy==1.26.4\n",
        "!pip install --upgrade scikit-surprise"
      ],
      "metadata": {
        "id": "A7-xN-eOGkoI"
      },
      "execution_count": null,
      "outputs": []
    },
    {
      "cell_type": "code",
      "execution_count": null,
      "metadata": {
        "id": "YW0j14HdFsvY"
      },
      "outputs": [],
      "source": [
        "import numpy as np\n",
        "import pandas as pd\n",
        "import matplotlib.pyplot as plt\n",
        "from surprise import Dataset, Reader, SVD\n",
        "from surprise.model_selection import train_test_split, cross_validate\n",
        "from surprise import accuracy\n",
        "import requests\n",
        "import io\n",
        "import os\n",
        "import zipfile\n"
      ]
    },
    {
      "cell_type": "code",
      "source": [
        "def download_and_extract_movielens():\n",
        "    if not os.path.exists('ml-100k'):\n",
        "        print(\"Downloading MovieLens 100K dataset...\")\n",
        "        url = \"https://files.grouplens.org/datasets/movielens/ml-100k.zip\"\n",
        "        r = requests.get(url)\n",
        "        z = zipfile.ZipFile(io.BytesIO(r.content))\n",
        "        z.extractall()\n",
        "        print(\"Movielens 100K dataset downloaded and extracted successfully.\")\n",
        "    else:\n",
        "        print(\"The dataset already exists. Download skipped.\")"
      ],
      "metadata": {
        "id": "eWRXBtrbJASc"
      },
      "execution_count": null,
      "outputs": []
    },
    {
      "cell_type": "code",
      "source": [
        "download_and_extract_movielens()\n",
        "\n",
        "ratings_df = pd.read_csv('ml-100k/u.data', sep='\\t',\n",
        "                       names=['user_id', 'item_id', 'rating', 'timestamp'])\n",
        "\n",
        "print(f\"Dataset shape: {ratings_df.shape}\")\n",
        "print(f\"Number of unique users: {ratings_df['user_id'].nunique()}\")\n",
        "print(f\"Number of unique movies: {ratings_df['item_id'].nunique()}\")\n",
        "print(f\"Range of ratings: {ratings_df['rating'].min()} to {ratings_df['rating'].max()}\")"
      ],
      "metadata": {
        "colab": {
          "base_uri": "https://localhost:8080/"
        },
        "id": "t4LSX92ULkpm",
        "outputId": "bddab79f-fe40-4675-f8b8-cfa672ed50ba"
      },
      "execution_count": null,
      "outputs": [
        {
          "output_type": "stream",
          "name": "stdout",
          "text": [
            "Downloading MovieLens 100K dataset...\n",
            "Movielens 100K dataset downloaded and extracted successfully.\n",
            "Dataset shape: (100000, 4)\n",
            "Number of unique users: 943\n",
            "Number of unique movies: 1682\n",
            "Range of ratings: 1 to 5\n"
          ]
        }
      ]
    },
    {
      "cell_type": "code",
      "source": [
        "reader = Reader(rating_scale=(1, 5))\n",
        "data = Dataset.load_from_df(ratings_df[['user_id', 'item_id', 'rating']], reader)\n",
        "\n",
        "trainset, testset = train_test_split(data, test_size=0.2, random_state=42)"
      ],
      "metadata": {
        "id": "0IXTf8RkLnvs"
      },
      "execution_count": null,
      "outputs": []
    },
    {
      "cell_type": "code",
      "source": [
        "model = SVD(n_factors=20, lr_all=0.01, reg_all=0.01, n_epochs=20, random_state=42)\n",
        "model.fit(trainset)\n",
        "\n",
        "predictions = model.test(testset)\n",
        "rmse = accuracy.rmse(predictions)\n",
        "mae = accuracy.mae(predictions)\n",
        "\n",
        "print(f\"Test RMSE: {rmse:.4f}\")\n",
        "print(f\"Test MAE: {mae:.4f}\")"
      ],
      "metadata": {
        "colab": {
          "base_uri": "https://localhost:8080/"
        },
        "id": "-TQp3sxdLtxH",
        "outputId": "82615efa-4691-4c62-a05d-6160ea4b1e72"
      },
      "execution_count": null,
      "outputs": [
        {
          "output_type": "stream",
          "name": "stdout",
          "text": [
            "RMSE: 0.9576\n",
            "MAE:  0.7455\n",
            "Test RMSE: 0.9576\n",
            "Test MAE: 0.7455\n"
          ]
        }
      ]
    },
    {
      "cell_type": "markdown",
      "source": [
        "#Predicting movie ratings for a user"
      ],
      "metadata": {
        "id": "p03uChfTPJJi"
      }
    },
    {
      "cell_type": "code",
      "source": [
        "def get_movie_names():\n",
        "    movies_df = pd.read_csv('ml-100k/u.item', sep='|', encoding='latin-1',\n",
        "                          header=None, usecols=[0, 1],\n",
        "                          names=['item_id', 'title'])\n",
        "    return movies_df"
      ],
      "metadata": {
        "id": "ITV_cMESPGXG"
      },
      "execution_count": null,
      "outputs": []
    },
    {
      "cell_type": "code",
      "source": [
        "def recommend_movies(user_id, n=10):\n",
        "    # List of all movies\n",
        "    movies_df = get_movie_names()\n",
        "    all_movies = movies_df['item_id'].unique()\n",
        "\n",
        "    # Movies already rated by the user\n",
        "    rated_movies = ratings_df[ratings_df['user_id'] == user_id]['item_id'].values\n",
        "\n",
        "    # Movies not yet rated by the user\n",
        "    unrated_movies = np.setdiff1d(all_movies, rated_movies)\n",
        "\n",
        "    # Predicting ratings on unseen movies, by using the trained SVD model\n",
        "    predictions = []\n",
        "    for item_id in unrated_movies:\n",
        "        predicted_rating = model.predict(user_id, item_id).est\n",
        "        predictions.append((item_id, predicted_rating))\n",
        "\n",
        "    # Rank predictions by estimated rating\n",
        "    predictions.sort(key=lambda x: x[1], reverse=True)\n",
        "\n",
        "    # Get top N recommendations\n",
        "    top_recommendations = predictions[:n]\n",
        "\n",
        "    # Fetch movie titles associated with top N recommendations\n",
        "    recommendations = pd.DataFrame(top_recommendations, columns=['item_id', 'predicted_rating'])\n",
        "    recommendations = recommendations.merge(movies_df, on='item_id')\n",
        "\n",
        "    return recommendations"
      ],
      "metadata": {
        "id": "B0NYWM-pPS4s"
      },
      "execution_count": null,
      "outputs": []
    },
    {
      "cell_type": "code",
      "source": [
        "user_id = 41\n",
        "recommendations = recommend_movies(user_id, n=10)\n",
        "\n",
        "print(f\"\\nTop 10 recommended movies for user {user_id}:\")\n",
        "print(recommendations[['title', 'predicted_rating']])"
      ],
      "metadata": {
        "colab": {
          "base_uri": "https://localhost:8080/"
        },
        "id": "g6jYT4APPWiI",
        "outputId": "597061c5-9a7d-4d4a-d06b-4e7e460a2dc7"
      },
      "execution_count": null,
      "outputs": [
        {
          "output_type": "stream",
          "name": "stdout",
          "text": [
            "\n",
            "Top 10 recommended movies for user 41:\n",
            "                                               title  predicted_rating\n",
            "0                              Close Shave, A (1995)          4.642751\n",
            "1                         Usual Suspects, The (1995)          4.630781\n",
            "2                          North by Northwest (1959)          4.507565\n",
            "3                             Full Monty, The (1997)          4.476879\n",
            "4  Wallace & Gromit: The Best of Aardman Animatio...          4.466863\n",
            "5                              Third Man, The (1949)          4.399962\n",
            "6                Once Upon a Time in the West (1969)          4.381188\n",
            "7                                Sunset Blvd. (1950)          4.339992\n",
            "8                                  Persuasion (1995)          4.338851\n",
            "9                              Paths of Glory (1957)          4.328396\n"
          ]
        }
      ]
    },
    {
      "cell_type": "code",
      "source": [],
      "metadata": {
        "id": "zF_HKCrJPibA"
      },
      "execution_count": null,
      "outputs": []
    }
  ]
}